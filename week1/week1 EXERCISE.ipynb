{
 "cells": [
  {
   "cell_type": "markdown",
   "id": "fe12c203-e6a6-452c-a655-afb8a03a4ff5",
   "metadata": {},
   "source": [
    "# End of week 1 exercise\n",
    "\n",
    "To demonstrate your familiarity with OpenAI API, and also Ollama, build a tool that takes a technical question,  \n",
    "and responds with an explanation. This is a tool that you will be able to use yourself during the course!"
   ]
  },
  {
   "cell_type": "code",
   "execution_count": 25,
   "id": "c1070317-3ed9-4659-abe3-828943230e03",
   "metadata": {},
   "outputs": [],
   "source": [
    "# imports\n",
    "import os\n",
    "from openai import OpenAI\n",
    "from dotenv import load_dotenv\n",
    "from IPython.display import Markdown, display, update_display"
   ]
  },
  {
   "cell_type": "code",
   "execution_count": 13,
   "id": "4a456906-915a-4bfd-bb9d-57e505c5093f",
   "metadata": {},
   "outputs": [],
   "source": [
    "# constants\n",
    "\n",
    "MODEL_GPT = 'gpt-4o-mini'\n",
    "\n",
    "OLLAMA_API = \"http://localhost:11434/api/chat\"\n",
    "MODEL_LLAMA = 'llama3.2'"
   ]
  },
  {
   "cell_type": "code",
   "execution_count": 17,
   "id": "a8d7923c-5f28-4c30-8556-342d7c8497c1",
   "metadata": {},
   "outputs": [],
   "source": [
    "# set up environment\n",
    "load_dotenv(override=True)\n",
    "api_key = os.getenv('OPENAI_API_KEY')\n",
    "openai = OpenAI()"
   ]
  },
  {
   "cell_type": "code",
   "execution_count": 22,
   "id": "3f0d0137-52b0-47a8-81a8-11a90a010798",
   "metadata": {},
   "outputs": [],
   "source": [
    "# here is the question; type over this to ask something new\n",
    "\n",
    "system_prompt = \"\"\"\n",
    "You are an expert in Python. You will receive a technical question and I need you to answer to it in Markdown.\n",
    "\"\"\"\n",
    "\n",
    "question = \"\"\"\n",
    "Please explain what this code does and why:\n",
    "yield from {book.get(\"author\") for book in books if book.get(\"author\")}\n",
    "\"\"\"\n",
    "\n",
    "messages=[\n",
    "    {\"role\": \"system\", \"content\": system_prompt},\n",
    "    {\"role\": \"user\", \"content\": question}\n",
    "]\n"
   ]
  },
  {
   "cell_type": "code",
   "execution_count": 26,
   "id": "60ce7000-a4a5-4cce-a261-e75ef45063b4",
   "metadata": {},
   "outputs": [
    {
     "data": {
      "text/markdown": [
       "Certainly! Let's break down the code you provided:\n",
       "\n",
       "```python\n",
       "yield from {book.get(\"author\") for book in books if book.get(\"author\")}\n",
       "```\n",
       "\n",
       "### Explanation\n",
       "\n",
       "1. **Set Comprehension**:\n",
       "   - The code uses a set comprehension: `{...}`. This creates a set of unique items, specifically authors from a collection of books.\n",
       "   - Inside the set comprehension, we have `book.get(\"author\")`, which retrieves the value associated with the key `\"author\"` for each `book` in the iterable `books`.\n",
       "\n",
       "2. **Iteration through `books`**:\n",
       "   - The expression `for book in books` iterates over each `book` object in the `books` collection (which is expected to be a list, tuple, or another iterable).\n",
       "\n",
       "3. **Condition**:\n",
       "   - The `if book.get(\"author\")` condition filters the books. It ensures that only books with a non-None (truthy) author are included in the resulting set. If `book.get(\"author\")` returns `None` (or any other falsy value), that book's author will not be included.\n",
       "\n",
       "4. **`yield from`**:\n",
       "   - The `yield from` statement is used in a generator function to yield all items from an iterable. This means that the results from the set comprehension (the unique authors) will be yielded one by one.\n",
       "   - By using `yield from`, this code allows the surrounding generator to yield multiple values without having to loop through the set manually.\n",
       "\n",
       "### Summary\n",
       "\n",
       "In summary, this line of code is part of a generator function that yields unique author names from a list of books. It ensures that only those books with a specified author are considered. Here's what happens step by step:\n",
       "\n",
       "- It creates a set of unique author names.\n",
       "- It filters out any books that do not have an author.\n",
       "- It yields each author name one by one using `yield from`.\n",
       "\n",
       "This approach is efficient and neatly encapsulates the behavior of generating values from a potentially large collection of objects."
      ],
      "text/plain": [
       "<IPython.core.display.Markdown object>"
      ]
     },
     "metadata": {},
     "output_type": "display_data"
    }
   ],
   "source": [
    "# Get gpt-4o-mini to answer, with streaming\n",
    "response = openai.chat.completions.create(\n",
    "        model=MODEL_GPT,\n",
    "        messages=messages,\n",
    ")\n",
    "result = response.choices[0].message.content\n",
    "\n",
    "display(Markdown(result))"
   ]
  },
  {
   "cell_type": "code",
   "execution_count": 28,
   "id": "c8d5701a-749f-443a-a2bf-a1cbb2f833ab",
   "metadata": {},
   "outputs": [
    {
     "data": {
      "text/markdown": [
       "The provided code snippet is using a Python feature called \"generator expressions\" along with the `yield from` statement. Let's break it down to understand what it does and why.\n",
       "\n",
       "### Code Explanation\n",
       "\n",
       "python\n",
       "yield from {book.get(\"author\") for book in books if book.get(\"author\")}\n",
       "\n",
       "\n",
       "1. **Set Comprehension**:\n",
       "   - `{book.get(\"author\") for book in books if book.get(\"author\")}` is a set comprehension. This creates a set of authors from the `books` collection.\n",
       "   - `book.get(\"author\")`: This retrieves the value associated with the key `\"author\"` from each `book` (which is assumed to be a dictionary).\n",
       "   - `if book.get(\"author\")`: This condition filters out any books that may not have an `\"author\"` field or where the field is `None` or an empty string.\n",
       "   - The result of this comprehension is a set of unique author names.\n",
       "\n",
       "2. **`yield from` Statement**:\n",
       "   - `yield from` is used in a generator function to yield all values from an iterable (in this case, the set created by the comprehension).\n",
       "   - Using `yield from` allows the function to yield each author one at a time, effectively making the generator yield each unique author found in the `books` list.\n",
       "\n",
       "### Example Scenario\n",
       "\n",
       "Suppose we have the following list of dictionaries called `books`:\n",
       "\n",
       "python\n",
       "books = [\n",
       "    {\"title\": \"Book 1\", \"author\": \"Author A\"},\n",
       "    {\"title\": \"Book 2\", \"author\": \"Author B\"},\n",
       "    {\"title\": \"Book 3\", \"author\": None},\n",
       "    {\"title\": \"Book 4\", \"author\": \"Author A\"},\n",
       "    {\"title\": \"Book 5\", \"author\": \"Author C\"},\n",
       "]\n",
       "\n",
       "\n",
       "In this case, the set comprehension would evaluate to:\n",
       "\n",
       "python\n",
       "{'Author A', 'Author B', 'Author C'}\n",
       "\n",
       "\n",
       "When we use `yield from`, the generator will yield each of these authors one by one.\n",
       "\n",
       "### Summary\n",
       "\n",
       "- The code snippet effectively collects unique authors from a list of books while filtering out any entries that do not have an `\"author\"`.\n",
       "- It then yields these authors one at a time from the generator.\n",
       "- This is useful for scenarios where you want to process or display each unique author without duplicates. \n",
       "\n",
       "Using `yield from` with set comprehension is a concise and efficient way to achieve this in Python."
      ],
      "text/plain": [
       "<IPython.core.display.Markdown object>"
      ]
     },
     "metadata": {},
     "output_type": "display_data"
    }
   ],
   "source": [
    "# Get gpt-4o-mini to answer, with streaming\n",
    "stream = openai.chat.completions.create(\n",
    "        model=MODEL_GPT,\n",
    "        messages=messages,\n",
    "        stream=True\n",
    ")\n",
    "response = \"\"\n",
    "display_handle = display(Markdown(\"\"), display_id=True)\n",
    "for chunk in stream:\n",
    "    response += chunk.choices[0].delta.content or ''\n",
    "    response = response.replace(\"```\",\"\").replace(\"markdown\", \"\")\n",
    "    update_display(Markdown(response), display_id=display_handle.display_id)"
   ]
  },
  {
   "cell_type": "code",
   "execution_count": 30,
   "id": "8f7c8ea8-4082-4ad0-8751-3301adcf6538",
   "metadata": {},
   "outputs": [
    {
     "data": {
      "text/markdown": [
       "**Code Explanation**\n",
       "======================\n",
       "\n",
       "The given code snippet uses Python's generator features to yield a sequence of authors from a list of book dictionaries.\n",
       "\n",
       "```python\n",
       "yield from {book.get(\"author\") for book in books if book.get(\"author\")}\n",
       "```\n",
       "\n",
       "Here's a step-by-step breakdown:\n",
       "\n",
       "1. `{book.get(\"author\")`: This part creates an dictionary comprehension that iterates over the `books` list (assumed to be a collection of dictionaries).\n",
       "2. `for book in books`: The outer iteration is not explicitly written, as it defaults to using the `books` variable.\n",
       "3. `if book.get(\"author\")`: This filters out any books that do not contain an `\"author\"` key.\n",
       "4. Yield from the resulting iterator: The `(yield from ...)` syntax is a shorthand for creating a generator that yields values from another iterable.\n",
       "\n",
       "**How it Works**\n",
       "----------------\n",
       "\n",
       "When executed, this code will yield each unique author found in the `books` list. Here's what happens behind the scenes:\n",
       "\n",
       "1. The dictionary comprehension iterates over the `books` list and checks if each book contains an `\"author\"` key.\n",
       "2. If a book has an `\"author\"` key, its value is yielded as part of the resulting iterator.\n",
       "3. The `yield from` syntax creates a new generator that yields values from this iterator.\n",
       "\n",
       "**Example Use Case**\n",
       "--------------------\n",
       "\n",
       "Suppose you have a list of book dictionaries and want to extract unique authors:\n",
       "\n",
       "```python\n",
       "books = [\n",
       "    {\"author\": \"J.K. Rowling\", \"title\": \"Harry Potter\"},\n",
       "    {\"author\": \"J.R.R. Tolkien\", \"title\": \"The Lord of the Rings\"},\n",
       "    {\"title\": \"To Kill a Mockingbird\"}  # No author specified\n",
       "]\n",
       "\n",
       "unique_authors = yield from {book.get(\"author\") for book in books if book.get(\"author\")}\n",
       "print(unique_authors)  # Output: ['J.K. Rowling', 'J.R.R. Tolkien']\n",
       "```\n",
       "\n",
       "In this example, the code will print a list of unique authors found in the `books` list."
      ],
      "text/plain": [
       "<IPython.core.display.Markdown object>"
      ]
     },
     "metadata": {},
     "output_type": "display_data"
    }
   ],
   "source": [
    "# Get Llama 3.2 to answer\n",
    "ollama_via_openai = OpenAI(base_url='http://localhost:11434/v1', api_key='ollama')\n",
    "response = ollama_via_openai.chat.completions.create(\n",
    "        model=MODEL_LLAMA,\n",
    "        messages=messages\n",
    ")\n",
    "result = response.choices[0].message.content\n",
    "\n",
    "display(Markdown(result))"
   ]
  },
  {
   "cell_type": "code",
   "execution_count": null,
   "id": "8235ffbb-2e1a-4fcc-80c8-b100220b34c5",
   "metadata": {},
   "outputs": [],
   "source": []
  }
 ],
 "metadata": {
  "kernelspec": {
   "display_name": "Python 3 (ipykernel)",
   "language": "python",
   "name": "python3"
  },
  "language_info": {
   "codemirror_mode": {
    "name": "ipython",
    "version": 3
   },
   "file_extension": ".py",
   "mimetype": "text/x-python",
   "name": "python",
   "nbconvert_exporter": "python",
   "pygments_lexer": "ipython3",
   "version": "3.11.12"
  }
 },
 "nbformat": 4,
 "nbformat_minor": 5
}
